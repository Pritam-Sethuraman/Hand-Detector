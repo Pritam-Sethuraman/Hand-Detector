{
 "cells": [
  {
   "cell_type": "code",
   "execution_count": 1,
   "id": "e7939765",
   "metadata": {},
   "outputs": [
    {
     "name": "stdout",
     "output_type": "stream",
     "text": [
      "Requirement already satisfied: cvzone in c:\\users\\prita\\appdata\\local\\programs\\python\\python39\\lib\\site-packages (1.5.5)\n",
      "Requirement already satisfied: numpy in c:\\users\\prita\\appdata\\local\\programs\\python\\python39\\lib\\site-packages (from cvzone) (1.22.2)\n",
      "Requirement already satisfied: opencv-python in c:\\users\\prita\\appdata\\local\\programs\\python\\python39\\lib\\site-packages (from cvzone) (4.5.5.62)\n"
     ]
    }
   ],
   "source": [
    "!pip3 install cvzone"
   ]
  },
  {
   "cell_type": "code",
   "execution_count": 2,
   "id": "c27840ad",
   "metadata": {},
   "outputs": [],
   "source": [
    "import cv2\n",
    "from cvzone.HandTrackingModule import HandDetector"
   ]
  },
  {
   "cell_type": "code",
   "execution_count": 4,
   "id": "5b27ac8f",
   "metadata": {},
   "outputs": [
    {
     "ename": "AttributeError",
     "evalue": "module 'cv2' has no attribute 'destroyALlWindows'",
     "output_type": "error",
     "traceback": [
      "\u001b[1;31m---------------------------------------------------------------------------\u001b[0m",
      "\u001b[1;31mAttributeError\u001b[0m                            Traceback (most recent call last)",
      "Input \u001b[1;32mIn [4]\u001b[0m, in \u001b[0;36m<module>\u001b[1;34m\u001b[0m\n\u001b[0;32m     32\u001b[0m         \u001b[38;5;28;01mbreak\u001b[39;00m\n\u001b[0;32m     34\u001b[0m cap\u001b[38;5;241m.\u001b[39mrelease()\n\u001b[1;32m---> 35\u001b[0m \u001b[43mcv2\u001b[49m\u001b[38;5;241;43m.\u001b[39;49m\u001b[43mdestroyALlWindows\u001b[49m()\n",
      "\u001b[1;31mAttributeError\u001b[0m: module 'cv2' has no attribute 'destroyALlWindows'"
     ]
    }
   ],
   "source": [
    "cap = cv2.VideoCapture(0)\n",
    "detector = HandDetector(detectionCon = 0.8)\n",
    "\n",
    "while True:\n",
    "    success,img=cap.read()\n",
    "    hands,img= detector.findHands(img)#going to return img with drawing\n",
    "    #for each hand we'll have info like Hand-->dict{lmList,boundingbox,center,type}\n",
    "    if hands: \n",
    "        hand1=hands[0]#gives us first hand\n",
    "        lmList1=hand1[\"lmList\"]# List of 21 landmarks\n",
    "        bbox1=hand1[\"bbox\"]#x,y,w,h of bounding box\n",
    "        centerPoint1=hand1[\"center\"]#center of the hand cx,cy\n",
    "        handType1=hand1[\"type\"]#left or right\n",
    "        finger1=detector.fingersUp(hand1)\n",
    "        length,info,img=detector.findDistance(lmList1[8],lmList1[12],img)\n",
    " \n",
    "    if len(hands)==2:\n",
    "        hand2=hands[1]#gives us second hand\n",
    "        lmList2=hand2[\"lmList\"]# List of  21 landmarks\n",
    "        bbox2=hand2[\"bbox\"]#x,y,w,h of bounding box\n",
    "        centerPoint2=hand2[\"center\"]#center of the hand cx,cy\n",
    "        handType2=hand2[\"type\"]#left or right\n",
    "        finger2=detector.fingersUp(hand2)\n",
    "        length,info,img=detector.findDistance(lmList1[8],lmList2[8],img)\n",
    "        length,info,img=detector.findDistance(centerPoint1,centerPoint2,img)\n",
    "\n",
    "    cv2.imshow(\"Image\",img)\n",
    "\n",
    "    #Wait for user input - q, then you will stop the loop\n",
    "    key_pressed = cv2.waitKey(1) & 0xFF #it will wait for 1 mili second bitwise and \n",
    "    if key_pressed == ord('q'): #ord tells you ascii value of that character\n",
    "        break\n",
    "\n",
    "cap.release()\n",
    "cv2.destroyALlWindows()"
   ]
  },
  {
   "cell_type": "code",
   "execution_count": null,
   "id": "1ecd9efa",
   "metadata": {},
   "outputs": [],
   "source": []
  }
 ],
 "metadata": {
  "kernelspec": {
   "display_name": "Python 3",
   "language": "python",
   "name": "python3"
  },
  "language_info": {
   "codemirror_mode": {
    "name": "ipython",
    "version": 3
   },
   "file_extension": ".py",
   "mimetype": "text/x-python",
   "name": "python",
   "nbconvert_exporter": "python",
   "pygments_lexer": "ipython3",
   "version": "3.9.2"
  }
 },
 "nbformat": 4,
 "nbformat_minor": 5
}
